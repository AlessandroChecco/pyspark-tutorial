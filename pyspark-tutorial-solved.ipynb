{
 "cells": [
  {
   "cell_type": "markdown",
   "metadata": {},
   "source": [
    "# Pyspark syntax"
   ]
  },
  {
   "cell_type": "code",
   "execution_count": 26,
   "metadata": {
    "collapsed": false
   },
   "outputs": [
    {
     "data": {
      "text/plain": [
       "<pyspark.context.SparkContext at 0x101734cf8>"
      ]
     },
     "execution_count": 26,
     "metadata": {},
     "output_type": "execute_result"
    }
   ],
   "source": [
    "sc"
   ]
  },
  {
   "cell_type": "code",
   "execution_count": 27,
   "metadata": {
    "collapsed": false
   },
   "outputs": [
    {
     "data": {
      "text/plain": [
       "<pyspark.sql.context.SQLContext at 0x107723278>"
      ]
     },
     "execution_count": 27,
     "metadata": {},
     "output_type": "execute_result"
    }
   ],
   "source": [
    "sqlContext #spark data table context"
   ]
  },
  {
   "cell_type": "code",
   "execution_count": 28,
   "metadata": {
    "collapsed": true
   },
   "outputs": [],
   "source": [
    "a = range(10)"
   ]
  },
  {
   "cell_type": "code",
   "execution_count": 29,
   "metadata": {
    "collapsed": false
   },
   "outputs": [
    {
     "data": {
      "text/plain": [
       "[0, 1, 2, 3, 4, 5, 6, 7, 8, 9]"
      ]
     },
     "execution_count": 29,
     "metadata": {},
     "output_type": "execute_result"
    }
   ],
   "source": [
    "list(a)"
   ]
  },
  {
   "cell_type": "code",
   "execution_count": 30,
   "metadata": {
    "collapsed": false
   },
   "outputs": [
    {
     "data": {
      "text/plain": [
       "PythonRDD[89] at RDD at PythonRDD.scala:48"
      ]
     },
     "execution_count": 30,
     "metadata": {},
     "output_type": "execute_result"
    }
   ],
   "source": [
    "rdd = sc.parallelize(a) #lazy send to spark\n",
    "rdd"
   ]
  },
  {
   "cell_type": "code",
   "execution_count": 31,
   "metadata": {
    "collapsed": false
   },
   "outputs": [
    {
     "data": {
      "text/plain": [
       "0"
      ]
     },
     "execution_count": 31,
     "metadata": {},
     "output_type": "execute_result"
    }
   ],
   "source": [
    "rdd.first()"
   ]
  },
  {
   "cell_type": "code",
   "execution_count": 32,
   "metadata": {
    "collapsed": false
   },
   "outputs": [
    {
     "data": {
      "text/plain": [
       "[0, 1, 2, 3, 4, 5, 6, 7, 8, 9]"
      ]
     },
     "execution_count": 32,
     "metadata": {},
     "output_type": "execute_result"
    }
   ],
   "source": [
    "rdd.collect()"
   ]
  },
  {
   "cell_type": "code",
   "execution_count": 33,
   "metadata": {
    "collapsed": false
   },
   "outputs": [
    {
     "data": {
      "text/plain": [
       "PythonRDD[91] at RDD at PythonRDD.scala:48"
      ]
     },
     "execution_count": 33,
     "metadata": {},
     "output_type": "execute_result"
    }
   ],
   "source": [
    "rdd =rdd.map(lambda x: x*10) #lazy! it return another rdd\n",
    "rdd"
   ]
  },
  {
   "cell_type": "code",
   "execution_count": 34,
   "metadata": {
    "collapsed": false
   },
   "outputs": [
    {
     "data": {
      "text/plain": [
       "450"
      ]
     },
     "execution_count": 34,
     "metadata": {},
     "output_type": "execute_result"
    }
   ],
   "source": [
    "rdd.reduce(lambda x,y:x+y) # not lazy (action)"
   ]
  },
  {
   "cell_type": "code",
   "execution_count": 35,
   "metadata": {
    "collapsed": false
   },
   "outputs": [
    {
     "data": {
      "text/plain": [
       "PythonRDD[93] at RDD at PythonRDD.scala:48"
      ]
     },
     "execution_count": 35,
     "metadata": {},
     "output_type": "execute_result"
    }
   ],
   "source": [
    "rdd = rdd.filter(lambda x: x>30)\n",
    "rdd"
   ]
  },
  {
   "cell_type": "code",
   "execution_count": 36,
   "metadata": {
    "collapsed": false
   },
   "outputs": [
    {
     "data": {
      "text/plain": [
       "[40, 50, 60, 70, 80, 90]"
      ]
     },
     "execution_count": 36,
     "metadata": {},
     "output_type": "execute_result"
    }
   ],
   "source": [
    "rdd.collect()"
   ]
  },
  {
   "cell_type": "markdown",
   "metadata": {},
   "source": [
    "## Exercises\n",
    "1. Get an RDD with numbers 2 to 10\n",
    "2. Get all elements that are bigger than 5\n",
    "3. Get the product of the elements of the result of 2"
   ]
  },
  {
   "cell_type": "code",
   "execution_count": 37,
   "metadata": {
    "collapsed": false,
    "hide_input": false
   },
   "outputs": [
    {
     "name": "stdout",
     "output_type": "stream",
     "text": [
      "[2, 3, 4, 5, 6, 7, 8, 9, 10]\n",
      "[6, 7, 8, 9, 10]\n",
      "30240\n"
     ]
    }
   ],
   "source": [
    "rdd =  sc.parallelize(range(2,11))\n",
    "print(rdd.collect())\n",
    "rdd = rdd.filter(lambda x: x >5)\n",
    "print(rdd.collect())\n",
    "rdd = rdd.reduce(lambda x,y: x*y)\n",
    "print(rdd)"
   ]
  },
  {
   "cell_type": "code",
   "execution_count": null,
   "metadata": {
    "collapsed": true
   },
   "outputs": [],
   "source": [
    "[1,2,3,4] -> [1,4,9,16] -> 1*4=4 9*16=144  144*4 =   "
   ]
  },
  {
   "cell_type": "markdown",
   "metadata": {},
   "source": [
    "## Input"
   ]
  },
  {
   "cell_type": "code",
   "execution_count": 42,
   "metadata": {
    "collapsed": true
   },
   "outputs": [],
   "source": [
    "allcsv = sc.textFile(\"./*.csv\") #depends where you are running! /data/*.csv if you are in bigdata1"
   ]
  },
  {
   "cell_type": "code",
   "execution_count": 43,
   "metadata": {
    "collapsed": false
   },
   "outputs": [
    {
     "data": {
      "text/plain": [
       "'Crime ID,Month,Reported by,Falls within,Longitude,Latitude,Location,LSOA code,LSOA name,Crime type,Last outcome category,Context'"
      ]
     },
     "execution_count": 43,
     "metadata": {},
     "output_type": "execute_result"
    }
   ],
   "source": [
    "allcsv.first()"
   ]
  },
  {
   "cell_type": "code",
   "execution_count": null,
   "metadata": {
    "collapsed": false
   },
   "outputs": [],
   "source": [
    "allcsv.map(lambda x: x.split(\",\")).first()"
   ]
  },
  {
   "cell_type": "markdown",
   "metadata": {},
   "source": [
    "## Tuples and ReduceByKey\n",
    "First element of a tuple is considered as key"
   ]
  },
  {
   "cell_type": "code",
   "execution_count": null,
   "metadata": {
    "collapsed": true
   },
   "outputs": [],
   "source": [
    "data = [['Alexandra','31','F','Python'],['Carla','25','F','C'],['Max','18','M','Scala'],['Tom','34','M','C'],['Philip','28','M','Python'],['Lucy','25','F','Scala'],['Al','18','M','Scala'],['Grace','34','F','Python']]"
   ]
  },
  {
   "cell_type": "code",
   "execution_count": null,
   "metadata": {
    "collapsed": false
   },
   "outputs": [],
   "source": [
    "data"
   ]
  },
  {
   "cell_type": "code",
   "execution_count": null,
   "metadata": {
    "collapsed": true
   },
   "outputs": [],
   "source": [
    "RDD = sc.parallelize(data) #send data to spark"
   ]
  },
  {
   "cell_type": "code",
   "execution_count": null,
   "metadata": {
    "collapsed": false
   },
   "outputs": [],
   "source": [
    "help(RDD.reduceByKey) #exit with q"
   ]
  },
  {
   "cell_type": "code",
   "execution_count": null,
   "metadata": {
    "collapsed": false
   },
   "outputs": [],
   "source": [
    "sumByGender = RDD.map(lambda t: (t[2],1)).reduceByKey(lambda x,y: x+y)\n",
    "sumByGender.collect()"
   ]
  },
  {
   "cell_type": "code",
   "execution_count": null,
   "metadata": {
    "collapsed": false
   },
   "outputs": [],
   "source": [
    "languageAndAge = RDD.map(lambda t: (t[3],int(t[1])))\n",
    "languageAndAge.collect()"
   ]
  },
  {
   "cell_type": "code",
   "execution_count": null,
   "metadata": {
    "collapsed": false
   },
   "outputs": [],
   "source": [
    "languageAndAge.reduceByKey(lambda x,y:x+y).collect()"
   ]
  },
  {
   "cell_type": "markdown",
   "metadata": {},
   "source": [
    "## Getting the average"
   ]
  },
  {
   "cell_type": "code",
   "execution_count": null,
   "metadata": {
    "collapsed": false
   },
   "outputs": [],
   "source": [
    "temp = RDD.map(lambda t: (t[3],(int(t[1]),1)))\n",
    "temp.collect()"
   ]
  },
  {
   "cell_type": "code",
   "execution_count": null,
   "metadata": {
    "collapsed": false
   },
   "outputs": [],
   "source": [
    "temp2 = temp.reduceByKey(lambda x,y: (x[0]+y[0],x[1]+y[1]))\n",
    "temp2.collect()"
   ]
  },
  {
   "cell_type": "code",
   "execution_count": null,
   "metadata": {
    "collapsed": false
   },
   "outputs": [],
   "source": [
    "temp2.map(lambda x:(x[0],x[1][0]/x[1][1])).collect()"
   ]
  },
  {
   "cell_type": "markdown",
   "metadata": {},
   "source": [
    "## Exercise\n",
    "1. Compute the average age by gender (the key is the first element in the tuple)\n",
    "2. Compute the preferred language by gender (use a tuple as a key)"
   ]
  },
  {
   "cell_type": "code",
   "execution_count": null,
   "metadata": {
    "collapsed": false,
    "hide_input": true
   },
   "outputs": [],
   "source": [
    "temp = RDD.map(lambda t: (t[2],(int(t[1]),1)))\n",
    "temp.collect()"
   ]
  },
  {
   "cell_type": "code",
   "execution_count": null,
   "metadata": {
    "collapsed": false,
    "hide_input": true
   },
   "outputs": [],
   "source": [
    "temp2 = temp.reduceByKey(lambda x,y: (x[0]+y[0],x[1]+y[1]))\n",
    "temp2.collect()"
   ]
  },
  {
   "cell_type": "code",
   "execution_count": null,
   "metadata": {
    "collapsed": false,
    "hide_input": true
   },
   "outputs": [],
   "source": [
    "temp2.map(lambda x: (x[0],x[1][0]/x[1][1])).collect()"
   ]
  },
  {
   "cell_type": "markdown",
   "metadata": {},
   "source": [
    "Compute the preferred language by gender (use a tuple as a key)"
   ]
  },
  {
   "cell_type": "code",
   "execution_count": null,
   "metadata": {
    "collapsed": false,
    "hide_input": true
   },
   "outputs": [],
   "source": [
    "temp = RDD.map(lambda t: ((t[2],t[3]),1))\n",
    "temp.collect()"
   ]
  },
  {
   "cell_type": "code",
   "execution_count": null,
   "metadata": {
    "collapsed": false,
    "hide_input": true
   },
   "outputs": [],
   "source": [
    "temp2 = temp.reduceByKey(lambda x,y: x+y)\n",
    "temp2.collect()"
   ]
  },
  {
   "cell_type": "code",
   "execution_count": null,
   "metadata": {
    "collapsed": false,
    "hide_input": true
   },
   "outputs": [],
   "source": [
    "temp3 = temp2.map(lambda x: (x[0][0],(x[0][1],x[1])))\n",
    "temp3.collect()"
   ]
  },
  {
   "cell_type": "code",
   "execution_count": null,
   "metadata": {
    "collapsed": false,
    "hide_input": true
   },
   "outputs": [],
   "source": [
    "temp3.reduceByKey(max).collect()"
   ]
  },
  {
   "cell_type": "markdown",
   "metadata": {},
   "source": [
    "Number of clusters:"
   ]
  },
  {
   "cell_type": "code",
   "execution_count": null,
   "metadata": {
    "collapsed": false
   },
   "outputs": [],
   "source": [
    "sc._jsc.sc().getExecutorMemoryStatus().size()"
   ]
  },
  {
   "cell_type": "markdown",
   "metadata": {},
   "source": [
    "# Pyspark SQL and Dataframes"
   ]
  },
  {
   "cell_type": "code",
   "execution_count": 40,
   "metadata": {
    "collapsed": false
   },
   "outputs": [],
   "source": [
    "df = sqlContext.read.format('com.databricks.spark.csv').options(delimiter=',',header='true', inferschema='true',mode=\"FAILFAST\").load('./crime.csv')"
   ]
  },
  {
   "cell_type": "code",
   "execution_count": 41,
   "metadata": {
    "collapsed": false
   },
   "outputs": [
    {
     "name": "stdout",
     "output_type": "stream",
     "text": [
      "+--------------------+-------+--------------------+--------------------+---------+---------+--------------------+---------+--------------------+--------------------+---------------------+-------+\n",
      "|            Crime ID|  Month|         Reported by|        Falls within|Longitude| Latitude|            Location|LSOA code|           LSOA name|          Crime type|Last outcome category|Context|\n",
      "+--------------------+-------+--------------------+--------------------+---------+---------+--------------------+---------+--------------------+--------------------+---------------------+-------+\n",
      "|6ce50abd0bf1ca408...|2016-12|Avon and Somerset...|Avon and Somerset...|-2.511571|51.414895|On or near Orchar...|E01014399|Bath and North Ea...|Criminal damage a...|  Under investigation|   null|\n",
      "|6e15f8dd5c88a65c2...|2016-12|Avon and Somerset...|Avon and Somerset...|-2.516919|51.423683|    On or near A4175|E01014399|Bath and North Ea...|Violence and sexu...|  Under investigation|   null|\n",
      "|2594621f67f0a2192...|2016-12|Avon and Somerset...|Avon and Somerset...|-2.511571|51.414895|On or near Orchar...|E01014399|Bath and North Ea...|Violence and sexu...|  Under investigation|   null|\n",
      "|2ba6efa8a8f190fc0...|2016-12|Avon and Somerset...|Avon and Somerset...|-2.495055|51.422132|On or near Cross ...|E01014399|Bath and North Ea...|Violence and sexu...|  Under investigation|   null|\n",
      "|df78d31cd52993672...|2016-12|Avon and Somerset...|Avon and Somerset...|-2.509126|51.416137|On or near St Fra...|E01014399|Bath and North Ea...|         Other crime|  Under investigation|   null|\n",
      "|                null|2016-12|Avon and Somerset...|Avon and Somerset...|-2.498613|51.416002|On or near High S...|E01014400|Bath and North Ea...|Anti-social behav...|                 null|   null|\n",
      "|                null|2016-12|Avon and Somerset...|Avon and Somerset...|-2.497767|51.420232|On or near Chando...|E01014400|Bath and North Ea...|Anti-social behav...|                 null|   null|\n",
      "|                null|2016-12|Avon and Somerset...|Avon and Somerset...| -2.49991|51.413623|On or near Rock Road|E01014400|Bath and North Ea...|Anti-social behav...|                 null|   null|\n",
      "|                null|2016-12|Avon and Somerset...|Avon and Somerset...| -2.49793|51.417966|On or near Statio...|E01014400|Bath and North Ea...|Anti-social behav...|                 null|   null|\n",
      "|9a5c7c81674f4a98c...|2016-12|Avon and Somerset...|Avon and Somerset...|-2.494715|51.419948|On or near Somerd...|E01014400|Bath and North Ea...|       Bicycle theft|  Under investigation|   null|\n",
      "|6d24ca629357cd692...|2016-12|Avon and Somerset...|Avon and Somerset...|-2.498613|51.416002|On or near High S...|E01014400|Bath and North Ea...|Criminal damage a...|  Under investigation|   null|\n",
      "|60cbfd3019af51e03...|2016-12|Avon and Somerset...|Avon and Somerset...|-2.501425|51.416692|On or near Parkin...|E01014400|Bath and North Ea...|         Other theft|  Under investigation|   null|\n",
      "|700bcbbb47736e5c3...|2016-12|Avon and Somerset...|Avon and Somerset...|-2.497767|51.420232|On or near Chando...|E01014400|Bath and North Ea...|         Other theft|  Under investigation|   null|\n",
      "|60cbfd3019af51e03...|2016-12|Avon and Somerset...|Avon and Somerset...|-2.497799|51.415233|On or near Back Lane|E01014400|Bath and North Ea...|         Other theft|  Under investigation|   null|\n",
      "|46cce36dba814c785...|2016-12|Avon and Somerset...|Avon and Somerset...| -2.49854|51.414618|On or near Superm...|E01014400|Bath and North Ea...|         Shoplifting|  Under investigation|   null|\n",
      "|e93f2d271db3d8b7e...|2016-12|Avon and Somerset...|Avon and Somerset...|-2.504289| 51.41828|On or near Tresco...|E01014400|Bath and North Ea...|Violence and sexu...|  Under investigation|   null|\n",
      "|aa43034f57d3111f0...|2016-12|Avon and Somerset...|Avon and Somerset...|-2.501425|51.416692|On or near Parkin...|E01014400|Bath and North Ea...|Violence and sexu...|  Under investigation|   null|\n",
      "|fda8b43830c33fcb5...|2016-12|Avon and Somerset...|Avon and Somerset...|-2.499922|51.417373|On or near Furthe...|E01014400|Bath and North Ea...|Violence and sexu...|  Under investigation|   null|\n",
      "|                null|2016-12|Avon and Somerset...|Avon and Somerset...|-2.506762|51.409116|On or near Queens...|E01014401|Bath and North Ea...|Anti-social behav...|                 null|   null|\n",
      "|                null|2016-12|Avon and Somerset...|Avon and Somerset...|-2.506762|51.409116|On or near Queens...|E01014401|Bath and North Ea...|Anti-social behav...|                 null|   null|\n",
      "+--------------------+-------+--------------------+--------------------+---------+---------+--------------------+---------+--------------------+--------------------+---------------------+-------+\n",
      "only showing top 20 rows\n",
      "\n"
     ]
    }
   ],
   "source": [
    "df.show()"
   ]
  },
  {
   "cell_type": "code",
   "execution_count": 3,
   "metadata": {
    "collapsed": false
   },
   "outputs": [
    {
     "name": "stdout",
     "output_type": "stream",
     "text": [
      "+-------+--------------------+\n",
      "|  Month|          Crime type|\n",
      "+-------+--------------------+\n",
      "|2016-12|Criminal damage a...|\n",
      "|2016-12|Violence and sexu...|\n",
      "|2016-12|Violence and sexu...|\n",
      "|2016-12|Violence and sexu...|\n",
      "|2016-12|         Other crime|\n",
      "|2016-12|Anti-social behav...|\n",
      "|2016-12|Anti-social behav...|\n",
      "|2016-12|Anti-social behav...|\n",
      "|2016-12|Anti-social behav...|\n",
      "|2016-12|       Bicycle theft|\n",
      "|2016-12|Criminal damage a...|\n",
      "|2016-12|         Other theft|\n",
      "|2016-12|         Other theft|\n",
      "|2016-12|         Other theft|\n",
      "|2016-12|         Shoplifting|\n",
      "|2016-12|Violence and sexu...|\n",
      "|2016-12|Violence and sexu...|\n",
      "|2016-12|Violence and sexu...|\n",
      "|2016-12|Anti-social behav...|\n",
      "|2016-12|Anti-social behav...|\n",
      "+-------+--------------------+\n",
      "only showing top 20 rows\n",
      "\n"
     ]
    }
   ],
   "source": [
    "df.select('Month','Crime type').show()"
   ]
  },
  {
   "cell_type": "code",
   "execution_count": 4,
   "metadata": {
    "collapsed": false
   },
   "outputs": [
    {
     "name": "stdout",
     "output_type": "stream",
     "text": [
      "root\n",
      " |-- Crime ID: string (nullable = true)\n",
      " |-- Month: string (nullable = true)\n",
      " |-- Reported by: string (nullable = true)\n",
      " |-- Falls within: string (nullable = true)\n",
      " |-- Longitude: double (nullable = true)\n",
      " |-- Latitude: double (nullable = true)\n",
      " |-- Location: string (nullable = true)\n",
      " |-- LSOA code: string (nullable = true)\n",
      " |-- LSOA name: string (nullable = true)\n",
      " |-- Crime type: string (nullable = true)\n",
      " |-- Last outcome category: string (nullable = true)\n",
      " |-- Context: string (nullable = true)\n",
      "\n"
     ]
    }
   ],
   "source": [
    "df.printSchema()"
   ]
  },
  {
   "cell_type": "code",
   "execution_count": 5,
   "metadata": {
    "collapsed": false
   },
   "outputs": [
    {
     "data": {
      "text/plain": [
       "DataFrame[Crime ID: string, Month: string, Reported by: string, Falls within: string, Longitude: double, Latitude: string, Location: string, LSOA code: string, LSOA name: string, Crime type: string, Last outcome category: string, Context: string]"
      ]
     },
     "execution_count": 5,
     "metadata": {},
     "output_type": "execute_result"
    }
   ],
   "source": [
    "# convert A as string\n",
    "from pyspark.sql.types import *\n",
    "df.withColumn('Latitude',df['Latitude'].cast(StringType()))"
   ]
  },
  {
   "cell_type": "code",
   "execution_count": 6,
   "metadata": {
    "collapsed": false
   },
   "outputs": [
    {
     "name": "stdout",
     "output_type": "stream",
     "text": [
      "root\n",
      " |-- Crime ID: string (nullable = true)\n",
      " |-- Month: date (nullable = true)\n",
      " |-- Reported by: string (nullable = true)\n",
      " |-- Falls within: string (nullable = true)\n",
      " |-- Longitude: double (nullable = true)\n",
      " |-- Latitude: double (nullable = true)\n",
      " |-- Location: string (nullable = true)\n",
      " |-- LSOA code: string (nullable = true)\n",
      " |-- LSOA name: string (nullable = true)\n",
      " |-- Crime type: string (nullable = true)\n",
      " |-- Last outcome category: string (nullable = true)\n",
      " |-- Context: string (nullable = true)\n",
      "\n"
     ]
    }
   ],
   "source": [
    "df = df.withColumn('Month',df['Month'].cast(DateType()))\n",
    "df.printSchema()"
   ]
  },
  {
   "cell_type": "code",
   "execution_count": 7,
   "metadata": {
    "collapsed": false
   },
   "outputs": [
    {
     "name": "stdout",
     "output_type": "stream",
     "text": [
      "+----------+----------+\n",
      "|min(Month)|max(Month)|\n",
      "+----------+----------+\n",
      "|2016-12-01|2016-12-01|\n",
      "+----------+----------+\n",
      "\n"
     ]
    }
   ],
   "source": [
    "from pyspark.sql.functions import mean, min, max\n",
    "df.select(min('Month'),max('Month')).show()"
   ]
  },
  {
   "cell_type": "markdown",
   "metadata": {},
   "source": [
    "see https://databricks.com/blog/2015/06/02/statistical-and-mathematical-functions-with-dataframes-in-spark.html"
   ]
  },
  {
   "cell_type": "code",
   "execution_count": 8,
   "metadata": {
    "collapsed": false
   },
   "outputs": [
    {
     "name": "stdout",
     "output_type": "stream",
     "text": [
      "+--------------------+---------------------+-------------+--------+-------------------------+-----+-----------+-----------+---------------------+------------+-------+-----------+---------------------+-------------+----------------------------+\n",
      "|LSOA name_Crime Type|Anti-social behaviour|Bicycle theft|Burglary|Criminal damage and arson|Drugs|Other crime|Other theft|Possession of weapons|Public order|Robbery|Shoplifting|Theft from the person|Vehicle crime|Violence and sexual offences|\n",
      "+--------------------+---------------------+-------------+--------+-------------------------+-----+-----------+-----------+---------------------+------------+-------+-----------+---------------------+-------------+----------------------------+\n",
      "|South Gloucesters...|                    1|            0|       0|                        0|    0|          0|          2|                    0|           0|      0|          0|                    0|            0|                           5|\n",
      "|         Mendip 002A|                    2|            0|       0|                        0|    0|          0|          1|                    0|           0|      0|          0|                    0|            0|                           4|\n",
      "|  Taunton Deane 008A|                    0|            0|       0|                        2|    0|          0|          0|                    0|           0|      0|          0|                    0|            0|                           0|\n",
      "|        Bristol 016E|                    2|            0|       2|                        0|    0|          0|          2|                    1|           1|      0|          3|                    0|            0|                           3|\n",
      "|        Bristol 025A|                    6|            1|       2|                        0|    0|          0|          2|                    0|           2|      0|          0|                    0|            1|                           2|\n",
      "|        Bristol 006C|                    0|            0|       1|                        2|    0|          0|          0|                    0|           2|      0|          0|                    0|            2|                           0|\n",
      "|South Gloucesters...|                    1|            0|       0|                        0|    0|          0|          0|                    1|           0|      0|          0|                    0|            0|                           0|\n",
      "| North Somerset 027D|                    2|            0|       1|                        0|    0|          0|          0|                    0|           0|      0|          0|                    0|            2|                           4|\n",
      "|         Mendip 007A|                    2|            1|       2|                        3|    0|          1|          1|                    0|           2|      0|          0|                    0|            0|                           2|\n",
      "| North Somerset 026C|                    3|            0|       0|                        0|    1|          0|          0|                    0|           0|      0|          0|                    0|            0|                           1|\n",
      "| North Somerset 015G|                    5|            0|       1|                        1|    0|          0|          0|                    0|           1|      0|          0|                    0|            0|                           1|\n",
      "|Bath and North Ea...|                    0|            0|       0|                        0|    1|          0|          2|                    0|           0|      0|          0|                    0|            0|                           2|\n",
      "|Bath and North Ea...|                    0|            0|       0|                        0|    0|          0|          0|                    1|           0|      0|          1|                    0|            2|                           0|\n",
      "|South Gloucesters...|                    6|            1|       2|                        2|    0|          0|         23|                    0|           2|      0|         35|                    2|           10|                          11|\n",
      "|         Mendip 011A|                   15|            0|       0|                        1|    0|          0|          3|                    1|           2|      0|          2|                    0|            1|                           8|\n",
      "|        Bristol 054A|                    6|            1|       0|                        3|    0|          0|          0|                    0|           1|      0|          0|                    0|            2|                           3|\n",
      "|        Bristol 042E|                    8|            0|       0|                        2|    0|          0|          1|                    0|           0|      0|          0|                    0|            1|                           2|\n",
      "|  Taunton Deane 007D|                    6|            0|       0|                        2|    0|          1|          1|                    0|           4|      0|          1|                    0|            0|                           3|\n",
      "|South Gloucesters...|                    1|            0|       0|                        0|    0|          0|          0|                    0|           1|      0|          0|                    0|            0|                           0|\n",
      "|  West Somerset 001F|                    0|            0|       0|                        0|    0|          0|          0|                    0|           1|      0|          0|                    0|            1|                           1|\n",
      "+--------------------+---------------------+-------------+--------+-------------------------+-----+-----------+-----------+---------------------+------------+-------+-----------+---------------------+-------------+----------------------------+\n",
      "only showing top 20 rows\n",
      "\n"
     ]
    }
   ],
   "source": [
    "df.stat.crosstab(\"LSOA name\", \"Crime Type\").show() "
   ]
  },
  {
   "cell_type": "markdown",
   "metadata": {},
   "source": [
    "We can go to http://bigdata1.sheffield.ac.uk:50070/explorer.html#/data/ukpolice to see the hfs filesystem"
   ]
  },
  {
   "cell_type": "code",
   "execution_count": 9,
   "metadata": {
    "collapsed": true
   },
   "outputs": [],
   "source": [
    "# how to work with dates\n",
    "#dates = (\"2013-01-01\",  \"2015-07-01\")\n",
    "#date_from, date_to = [to_date(lit(s)).cast(TimestampType()) for s in dates]\n",
    "#sf.where((sf.my_col > date_from) & (sf.my_col < date_to))"
   ]
  },
  {
   "cell_type": "code",
   "execution_count": 10,
   "metadata": {
    "collapsed": false
   },
   "outputs": [
    {
     "name": "stdout",
     "output_type": "stream",
     "text": [
      "+----------+---------+---------+\n",
      "|Crime type| Latitude|Longitude|\n",
      "+----------+---------+---------+\n",
      "|  Burglary| 51.41364|-2.498127|\n",
      "|  Burglary|51.395315|-2.391594|\n",
      "|  Burglary|51.392676|-2.350423|\n",
      "|  Burglary|51.388973|-2.352608|\n",
      "|  Burglary|51.391003|-2.356346|\n",
      "|  Burglary|51.391003|-2.356346|\n",
      "|  Burglary|51.386211|-2.359211|\n",
      "|  Burglary|51.380421|-2.358907|\n",
      "|  Burglary|51.386211|-2.359211|\n",
      "|  Burglary|51.389609|-2.390367|\n",
      "|  Burglary|51.383968| -2.36339|\n",
      "|  Burglary|51.381522|-2.363543|\n",
      "|  Burglary| 51.38013|-2.365745|\n",
      "|  Burglary|51.383162|-2.368039|\n",
      "|  Burglary|51.383414|-2.370958|\n",
      "|  Burglary|51.390704|-2.319911|\n",
      "|  Burglary|51.328447|-2.371088|\n",
      "|  Burglary|51.323676|-2.369973|\n",
      "|  Burglary| 51.37917|-2.392864|\n",
      "|  Burglary|51.374852|-2.382799|\n",
      "+----------+---------+---------+\n",
      "only showing top 20 rows\n",
      "\n"
     ]
    }
   ],
   "source": [
    "df.filter(df[\"Crime type\"] == 'Burglary').select(df['Crime type'],df.Latitude,df.Longitude).show()"
   ]
  },
  {
   "cell_type": "code",
   "execution_count": 11,
   "metadata": {
    "collapsed": false
   },
   "outputs": [
    {
     "name": "stdout",
     "output_type": "stream",
     "text": [
      "== Physical Plan ==\n",
      "*Project [Crime type#9, Latitude#5, Longitude#4]\n",
      "+- *Filter (isnotnull(Crime type#9) && (Crime type#9 = Burglary))\n",
      "   +- *FileScan csv [Longitude#4,Latitude#5,Crime type#9] Batched: false, Format: CSV, Location: InMemoryFileIndex[file:/Users/alessandro/Desktop/pyspark-tutorial-solved-master/crime.csv], PartitionFilters: [], PushedFilters: [IsNotNull(Crime type), EqualTo(Crime type,Burglary)], ReadSchema: struct<Longitude:double,Latitude:double,Crime type:string>\n"
     ]
    }
   ],
   "source": [
    "df.filter(df[\"Crime type\"] == 'Burglary').select(df['Crime type'],df.Latitude,df.Longitude).explain()"
   ]
  },
  {
   "cell_type": "code",
   "execution_count": 12,
   "metadata": {
    "collapsed": false
   },
   "outputs": [
    {
     "name": "stdout",
     "output_type": "stream",
     "text": [
      "+--------+---------+\n",
      "|Latitude|Longitude|\n",
      "+--------+---------+\n",
      "|Burglary|-2.498127|\n",
      "|Burglary|-2.391594|\n",
      "|Burglary|-2.350423|\n",
      "|Burglary|-2.352608|\n",
      "|Burglary|-2.356346|\n",
      "|Burglary|-2.356346|\n",
      "|Burglary|-2.359211|\n",
      "|Burglary|-2.358907|\n",
      "|Burglary|-2.359211|\n",
      "|Burglary|-2.390367|\n",
      "|Burglary| -2.36339|\n",
      "|Burglary|-2.363543|\n",
      "|Burglary|-2.365745|\n",
      "|Burglary|-2.368039|\n",
      "|Burglary|-2.370958|\n",
      "|Burglary|-2.319911|\n",
      "|Burglary|-2.371088|\n",
      "|Burglary|-2.369973|\n",
      "|Burglary|-2.392864|\n",
      "|Burglary|-2.382799|\n",
      "+--------+---------+\n",
      "only showing top 20 rows\n",
      "\n"
     ]
    }
   ],
   "source": [
    "#or equivalently\n",
    "sqlContext.registerDataFrameAsTable(df, \"table1\")\n",
    "sqlContext.sql('select `Crime type` Latitude, Longitude from table1 where `Crime type` == \"Burglary\"').show()"
   ]
  },
  {
   "cell_type": "code",
   "execution_count": 13,
   "metadata": {
    "collapsed": false
   },
   "outputs": [
    {
     "name": "stdout",
     "output_type": "stream",
     "text": [
      "== Physical Plan ==\n",
      "*Project [Crime type#9 AS Latitude#265, Longitude#4]\n",
      "+- *Filter (isnotnull(Crime type#9) && (Crime type#9 = Burglary))\n",
      "   +- *FileScan csv [Longitude#4,Crime type#9] Batched: false, Format: CSV, Location: InMemoryFileIndex[file:/Users/alessandro/Desktop/pyspark-tutorial-solved-master/crime.csv], PartitionFilters: [], PushedFilters: [IsNotNull(Crime type), EqualTo(Crime type,Burglary)], ReadSchema: struct<Longitude:double,Crime type:string>\n"
     ]
    }
   ],
   "source": [
    "sqlContext.sql('select `Crime type` Latitude, Longitude from table1 where `Crime type` == \"Burglary\"').explain()"
   ]
  },
  {
   "cell_type": "markdown",
   "metadata": {},
   "source": [
    "## Caching"
   ]
  },
  {
   "cell_type": "code",
   "execution_count": 14,
   "metadata": {
    "collapsed": false
   },
   "outputs": [
    {
     "data": {
      "text/plain": [
       "13750"
      ]
     },
     "execution_count": 14,
     "metadata": {},
     "output_type": "execute_result"
    }
   ],
   "source": [
    "df.cache() # put the df in cache and results will be cached too (try to run a count twice after this)\n",
    "df.count()"
   ]
  },
  {
   "cell_type": "code",
   "execution_count": 15,
   "metadata": {
    "collapsed": false
   },
   "outputs": [
    {
     "data": {
      "text/plain": [
       "13750"
      ]
     },
     "execution_count": 15,
     "metadata": {},
     "output_type": "execute_result"
    }
   ],
   "source": [
    "df.count()"
   ]
  },
  {
   "cell_type": "code",
   "execution_count": 16,
   "metadata": {
    "collapsed": false
   },
   "outputs": [
    {
     "name": "stdout",
     "output_type": "stream",
     "text": [
      "+---------+---------+-------------------+\n",
      "|Longitude| Latitude|Longitude_times_two|\n",
      "+---------+---------+-------------------+\n",
      "|-2.511571|51.414895|          -5.023142|\n",
      "|-2.516919|51.423683|          -5.033838|\n",
      "|-2.511571|51.414895|          -5.023142|\n",
      "|-2.495055|51.422132|           -4.99011|\n",
      "|-2.509126|51.416137|          -5.018252|\n",
      "|-2.498613|51.416002|          -4.997226|\n",
      "|-2.497767|51.420232|          -4.995534|\n",
      "| -2.49991|51.413623|           -4.99982|\n",
      "| -2.49793|51.417966|           -4.99586|\n",
      "|-2.494715|51.419948|           -4.98943|\n",
      "|-2.498613|51.416002|          -4.997226|\n",
      "|-2.501425|51.416692|           -5.00285|\n",
      "|-2.497767|51.420232|          -4.995534|\n",
      "|-2.497799|51.415233|          -4.995598|\n",
      "| -2.49854|51.414618|           -4.99708|\n",
      "|-2.504289| 51.41828|          -5.008578|\n",
      "|-2.501425|51.416692|           -5.00285|\n",
      "|-2.499922|51.417373|          -4.999844|\n",
      "|-2.506762|51.409116|          -5.013524|\n",
      "|-2.506762|51.409116|          -5.013524|\n",
      "+---------+---------+-------------------+\n",
      "only showing top 20 rows\n",
      "\n"
     ]
    }
   ],
   "source": [
    "# adding columns and keeping existing ones F.lit(0) return a column\n",
    "from pyspark.sql import functions as F\n",
    "df.withColumn('zero', F.lit(0))\n",
    "df.select('Longitude','Latitude').withColumn('Longitude_times_two', df.Longitude * 2).show()"
   ]
  },
  {
   "cell_type": "code",
   "execution_count": 17,
   "metadata": {
    "collapsed": false
   },
   "outputs": [
    {
     "name": "stdout",
     "output_type": "stream",
     "text": [
      "+---------+---------+-------------+\n",
      "| Latitude|  new_Lat|negative_long|\n",
      "+---------+---------+-------------+\n",
      "|51.414895|51.414895|         true|\n",
      "|51.423683|51.423683|         true|\n",
      "|51.414895|51.414895|         true|\n",
      "|51.422132|51.422132|         true|\n",
      "|51.416137|51.416137|         true|\n",
      "|51.416002|51.416002|         true|\n",
      "|51.420232|51.420232|         true|\n",
      "|51.413623|51.413623|         true|\n",
      "|51.417966|51.417966|         true|\n",
      "|51.419948|51.419948|         true|\n",
      "|51.416002|51.416002|         true|\n",
      "|51.416692|51.416692|         true|\n",
      "|51.420232|51.420232|         true|\n",
      "|51.415233|51.415233|         true|\n",
      "|51.414618|51.414618|         true|\n",
      "| 51.41828| 51.41828|         true|\n",
      "|51.416692|51.416692|         true|\n",
      "|51.417373|51.417373|         true|\n",
      "|51.409116|51.409116|         true|\n",
      "|51.409116|51.409116|         true|\n",
      "+---------+---------+-------------+\n",
      "only showing top 20 rows\n",
      "\n"
     ]
    }
   ],
   "source": [
    "from pyspark.sql.functions import col, first, last, sum, count, countDistinct, desc #*\n",
    "# selecting columns, and creating new ones\n",
    "df.select('Latitude', col('Latitude').alias('new_Lat'), (col('Longitude') < 0 ).alias('negative_long')).show()"
   ]
  },
  {
   "cell_type": "code",
   "execution_count": 18,
   "metadata": {
    "collapsed": false
   },
   "outputs": [
    {
     "name": "stdout",
     "output_type": "stream",
     "text": [
      "root\n",
      " |-- Crime ID: string (nullable = true)\n",
      " |-- Month: date (nullable = true)\n",
      " |-- Reported by: string (nullable = true)\n",
      " |-- Falls within: string (nullable = true)\n",
      " |-- Longitude: double (nullable = true)\n",
      " |-- Latitude: double (nullable = true)\n",
      " |-- Location: string (nullable = true)\n",
      " |-- LSOA code: string (nullable = true)\n",
      " |-- LSOA name: string (nullable = true)\n",
      " |-- Crime type: string (nullable = true)\n",
      " |-- Last outcome category: string (nullable = true)\n",
      " |-- Context: string (nullable = true)\n",
      "\n"
     ]
    }
   ],
   "source": [
    "df.printSchema()"
   ]
  },
  {
   "cell_type": "code",
   "execution_count": 19,
   "metadata": {
    "collapsed": false
   },
   "outputs": [
    {
     "name": "stdout",
     "output_type": "stream",
     "text": [
      "+--------------------+--------------------+\n",
      "|          Crime type|              status|\n",
      "+--------------------+--------------------+\n",
      "|       Bicycle theft| Under investigation|\n",
      "|        Public order| Under investigation|\n",
      "|               Drugs|Awaiting court ou...|\n",
      "|         Other crime| Under investigation|\n",
      "|             Robbery| Under investigation|\n",
      "|Criminal damage a...| Under investigation|\n",
      "|Theft from the pe...| Under investigation|\n",
      "|         Shoplifting| Under investigation|\n",
      "|            Burglary| Under investigation|\n",
      "|         Other theft| Under investigation|\n",
      "|Possession of wea...|Awaiting court ou...|\n",
      "|Violence and sexu...| Under investigation|\n",
      "|       Vehicle crime| Under investigation|\n",
      "|Anti-social behav...|                null|\n",
      "+--------------------+--------------------+\n",
      "\n"
     ]
    }
   ],
   "source": [
    "df.groupBy('Crime type').agg(first('Last outcome category').alias(\"status\")).show()"
   ]
  },
  {
   "cell_type": "markdown",
   "metadata": {},
   "source": [
    "## Exercise\n",
    "1. Show how many crimes we have for each crime type (hint: use groupby, agg and count)\n",
    "2. Show how many *distinct*  'Last outcome category' we have for each Crime type\n",
    "3. Show how many crimes we have for each LSOA code and crime type (hint: groupy by two keys)"
   ]
  },
  {
   "cell_type": "code",
   "execution_count": 20,
   "metadata": {
    "collapsed": false,
    "hide_input": true,
    "scrolled": true
   },
   "outputs": [
    {
     "name": "stdout",
     "output_type": "stream",
     "text": [
      "+--------------------+-----------------+\n",
      "|          Crime type|count(Crime type)|\n",
      "+--------------------+-----------------+\n",
      "|       Bicycle theft|              205|\n",
      "|        Public order|             1304|\n",
      "|               Drugs|              325|\n",
      "|         Other crime|              146|\n",
      "|             Robbery|              105|\n",
      "|Criminal damage a...|             1366|\n",
      "|Theft from the pe...|              127|\n",
      "|         Shoplifting|              934|\n",
      "|            Burglary|              914|\n",
      "|         Other theft|             1136|\n",
      "|Possession of wea...|               66|\n",
      "|Violence and sexu...|             3754|\n",
      "|       Vehicle crime|              842|\n",
      "|Anti-social behav...|             2526|\n",
      "+--------------------+-----------------+\n",
      "\n"
     ]
    }
   ],
   "source": [
    "df.groupBy('Crime type').agg(count('Crime type')).show() # df.groupBy('Crime type').agg(count).show()"
   ]
  },
  {
   "cell_type": "code",
   "execution_count": 21,
   "metadata": {
    "collapsed": false,
    "hide_input": true,
    "scrolled": true
   },
   "outputs": [
    {
     "name": "stdout",
     "output_type": "stream",
     "text": [
      "+--------------------+-------------------------------------+\n",
      "|          Crime type|count(DISTINCT Last outcome category)|\n",
      "+--------------------+-------------------------------------+\n",
      "|       Bicycle theft|                                    2|\n",
      "|        Public order|                                   11|\n",
      "|               Drugs|                                   10|\n",
      "|         Other crime|                                    6|\n",
      "|             Robbery|                                    4|\n",
      "|Criminal damage a...|                                    9|\n",
      "|Theft from the pe...|                                    4|\n",
      "|         Shoplifting|                                   13|\n",
      "|            Burglary|                                    4|\n",
      "|         Other theft|                                    8|\n",
      "|Possession of wea...|                                    7|\n",
      "|Violence and sexu...|                                   12|\n",
      "|       Vehicle crime|                                    5|\n",
      "|Anti-social behav...|                                    0|\n",
      "+--------------------+-------------------------------------+\n",
      "\n"
     ]
    }
   ],
   "source": [
    "df.groupBy('Crime type').agg(countDistinct('Last outcome category')).show()"
   ]
  },
  {
   "cell_type": "code",
   "execution_count": 22,
   "metadata": {
    "collapsed": false,
    "hide_input": true
   },
   "outputs": [
    {
     "data": {
      "text/plain": [
       "DataFrame[Crime ID: string, Month: date, Reported by: string, Falls within: string, Longitude: double, Latitude: double, Location: string, LSOA code: string, LSOA name: string, Crime type: string, Last outcome category: string, Context: string]"
      ]
     },
     "execution_count": 22,
     "metadata": {},
     "output_type": "execute_result"
    }
   ],
   "source": [
    "df"
   ]
  },
  {
   "cell_type": "code",
   "execution_count": 23,
   "metadata": {
    "collapsed": false,
    "hide_input": true
   },
   "outputs": [
    {
     "name": "stdout",
     "output_type": "stream",
     "text": [
      "+--------------------+--------------------+-----+\n",
      "|          Crime type|           LSOA name|count|\n",
      "+--------------------+--------------------+-----+\n",
      "|Violence and sexu...|Bath and North Ea...|    3|\n",
      "|Anti-social behav...|Bath and North Ea...|    3|\n",
      "|             Robbery|Bath and North Ea...|    1|\n",
      "|         Shoplifting|Bath and North Ea...|    1|\n",
      "|            Burglary|Bath and North Ea...|    1|\n",
      "|Violence and sexu...|        Bristol 001H|    2|\n",
      "|Violence and sexu...|        Bristol 010D|    4|\n",
      "|Violence and sexu...|        Bristol 012D|    2|\n",
      "|Theft from the pe...|        Bristol 013A|    3|\n",
      "|         Other theft|        Bristol 016A|    1|\n",
      "|         Other theft|        Bristol 019B|    1|\n",
      "|         Other theft|        Bristol 022C|    9|\n",
      "|            Burglary|        Bristol 028A|    1|\n",
      "|Anti-social behav...|        Bristol 030B|    2|\n",
      "|Criminal damage a...|        Bristol 035E|    1|\n",
      "|        Public order|        Bristol 039A|    3|\n",
      "|Criminal damage a...|        Bristol 047D|    2|\n",
      "|       Bicycle theft|        Bristol 049E|    1|\n",
      "|        Public order|        Bristol 053B|    6|\n",
      "|Violence and sexu...|        Bristol 054D|   13|\n",
      "+--------------------+--------------------+-----+\n",
      "only showing top 20 rows\n",
      "\n"
     ]
    }
   ],
   "source": [
    "df.groupBy('Crime type','LSOA name').count().show()"
   ]
  },
  {
   "cell_type": "code",
   "execution_count": 24,
   "metadata": {
    "collapsed": false,
    "hide_input": true
   },
   "outputs": [
    {
     "name": "stdout",
     "output_type": "stream",
     "text": [
      "+---------+\n",
      "| Latitude|\n",
      "+---------+\n",
      "| 53.70861|\n",
      "|52.489466|\n",
      "|52.132956|\n",
      "|52.132956|\n",
      "|51.945433|\n",
      "|51.886984|\n",
      "|51.886984|\n",
      "|51.886984|\n",
      "|51.886984|\n",
      "|51.698864|\n",
      "|51.634454|\n",
      "|51.634454|\n",
      "|51.634454|\n",
      "|51.634454|\n",
      "|51.634454|\n",
      "|51.633598|\n",
      "|51.633598|\n",
      "|51.630366|\n",
      "|51.628035|\n",
      "|51.628035|\n",
      "+---------+\n",
      "only showing top 20 rows\n",
      "\n"
     ]
    }
   ],
   "source": [
    "df.sort(desc(\"Latitude\")).select('Latitude').show()"
   ]
  },
  {
   "cell_type": "code",
   "execution_count": 25,
   "metadata": {
    "collapsed": false,
    "hide_input": true,
    "scrolled": true
   },
   "outputs": [
    {
     "name": "stdout",
     "output_type": "stream",
     "text": [
      "+---------+---------+\n",
      "| Latitude|Longitude|\n",
      "+---------+---------+\n",
      "|52.132956|-0.446839|\n",
      "|52.132956|-0.446839|\n",
      "|51.886984|-2.075333|\n",
      "|51.886984|-2.075333|\n",
      "|51.886984|-2.075333|\n",
      "|51.886984|-2.075333|\n",
      "| 53.70861|-1.678624|\n",
      "|51.698864|-2.901494|\n",
      "|51.945433|-0.259986|\n",
      "|51.612107|-2.511244|\n",
      "|51.612107|-2.511244|\n",
      "|51.616651|-2.518618|\n",
      "|51.613491|-2.511462|\n",
      "|51.617423|-2.510755|\n",
      "|51.617423|-2.510755|\n",
      "|51.617423|-2.510755|\n",
      "|51.617423|-2.510755|\n",
      "| 51.61184|-2.516816|\n",
      "|51.615619|-2.518303|\n",
      "|51.614792|-2.516214|\n",
      "+---------+---------+\n",
      "only showing top 20 rows\n",
      "\n"
     ]
    }
   ],
   "source": [
    "df.select('Latitude','Longitude').where(df['Latitude']>51.6).show()"
   ]
  },
  {
   "cell_type": "markdown",
   "metadata": {},
   "source": [
    "## Exercise\n",
    "\n",
    "1. show the LSOA names where the number of crimes is bigger than 100 (use groupby count and where)\n",
    "2. sort them by count of crimes\n",
    "3. see help(df.stat.freqItems) and show the crimes and lsoa name appearing  more than 30% (hint support is 0.3, use show(truncate=False) to see the result)"
   ]
  },
  {
   "cell_type": "code",
   "execution_count": null,
   "metadata": {
    "collapsed": false,
    "hide_input": true,
    "scrolled": true
   },
   "outputs": [],
   "source": [
    "df.groupBy('LSOA name').count().dropna().where(col('count')>100).show()"
   ]
  },
  {
   "cell_type": "code",
   "execution_count": null,
   "metadata": {
    "collapsed": false,
    "hide_input": true
   },
   "outputs": [],
   "source": [
    "df.groupBy('LSOA name').count().dropna().where(col('count')>100).sort(desc('count')).show()"
   ]
  },
  {
   "cell_type": "code",
   "execution_count": null,
   "metadata": {
    "collapsed": false,
    "hide_input": true
   },
   "outputs": [],
   "source": [
    "help(df.stat.freqItems) #q to exit"
   ]
  },
  {
   "cell_type": "code",
   "execution_count": null,
   "metadata": {
    "collapsed": false,
    "hide_input": true,
    "scrolled": true
   },
   "outputs": [],
   "source": [
    "df.stat.freqItems(['LSOA name','Crime type'],0.3).show(truncate=False)"
   ]
  }
 ],
 "metadata": {
  "kernelspec": {
   "display_name": "Python 3",
   "language": "python",
   "name": "python3"
  },
  "language_info": {
   "codemirror_mode": {
    "name": "ipython",
    "version": 3
   },
   "file_extension": ".py",
   "mimetype": "text/x-python",
   "name": "python",
   "nbconvert_exporter": "python",
   "pygments_lexer": "ipython3",
   "version": "3.5.1"
  },
  "toc": {
   "colors": {
    "hover_highlight": "#DAA520",
    "running_highlight": "#FF0000",
    "selected_highlight": "#FFD700"
   },
   "moveMenuLeft": true,
   "nav_menu": {
    "height": "12px",
    "width": "252px"
   },
   "navigate_menu": true,
   "number_sections": true,
   "sideBar": true,
   "threshold": 4,
   "toc_cell": false,
   "toc_section_display": "block",
   "toc_window_display": false
  }
 },
 "nbformat": 4,
 "nbformat_minor": 0
}
